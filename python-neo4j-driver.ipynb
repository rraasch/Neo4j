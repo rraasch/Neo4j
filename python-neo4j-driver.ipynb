{
 "cells": [
  {
   "cell_type": "markdown",
   "id": "7a47e84d",
   "metadata": {},
   "source": [
    "hands on neo4j for python developers"
   ]
  },
  {
   "cell_type": "code",
   "execution_count": 1,
   "id": "5f05cc03",
   "metadata": {},
   "outputs": [],
   "source": [
    "from neo4j import GraphDatabase, unit_of_work"
   ]
  },
  {
   "cell_type": "code",
   "execution_count": 2,
   "id": "8552d0f9",
   "metadata": {},
   "outputs": [],
   "source": [
    "uri = \"neo4j+s://79ae8b64.databases.neo4j.io\"\n",
    "user = 'neo4j_python'\n",
    "pwd = \"unladen_swallow\""
   ]
  },
  {
   "cell_type": "code",
   "execution_count": 3,
   "id": "d91c271c",
   "metadata": {},
   "outputs": [
    {
     "name": "stderr",
     "output_type": "stream",
     "text": [
      "<ipython-input-3-0a16839d1e45>:2: ExperimentalWarning: The configuration may change in the future.\n",
      "  driver.verify_connectivity()\n"
     ]
    },
    {
     "data": {
      "text/plain": [
       "{IPv4Address(('79ae8b64.databases.neo4j.io', 7687)): [{'servers': [{'addresses': ['79ae8b64.databases.neo4j.io:7687'],\n",
       "     'role': 'WRITE'},\n",
       "    {'addresses': ['79ae8b64.databases.neo4j.io:7687'], 'role': 'READ'},\n",
       "    {'addresses': ['79ae8b64.databases.neo4j.io:7687'], 'role': 'ROUTE'}],\n",
       "   'ttl': 10,\n",
       "   'db': 'neo4j'}]}"
      ]
     },
     "execution_count": 3,
     "metadata": {},
     "output_type": "execute_result"
    }
   ],
   "source": [
    "driver = GraphDatabase.driver(uri, auth = (user, pwd))\n",
    "driver.verify_connectivity()"
   ]
  },
  {
   "cell_type": "code",
   "execution_count": 31,
   "id": "9a7770aa",
   "metadata": {},
   "outputs": [],
   "source": [
    "@unit_of_work(timeout=30)\n",
    "def generic_function(tx, **kwargs):\n",
    "  result = tx.run(\"MATCH (n) RETURN n\", **kwargs)\n",
    "  return list(result)"
   ]
  },
  {
   "cell_type": "code",
   "execution_count": 32,
   "id": "4f7fc9be",
   "metadata": {},
   "outputs": [
    {
     "name": "stdout",
     "output_type": "stream",
     "text": [
      "[<Record n=<Node id=32 labels=frozenset({'User'}) properties={'name': '02a4e'}>>, <Record n=<Node id=33 labels=frozenset({'Choice'}) properties={'name': 'North America'}>>, <Record n=<Node id=34 labels=frozenset({'Question'}) properties={'name': 'Where did you first learn of Axolotles?'}>>, <Record n=<Node id=35 labels=frozenset({'Choice'}) properties={'name': 'Ability to fly'}>>, <Record n=<Node id=36 labels=frozenset({'Question'}) properties={'name': 'What animal superpower would you like to have?'}>>, <Record n=<Node id=37 labels=frozenset({'Choice'}) properties={'name': 'Axololte'}>>, <Record n=<Node id=38 labels=frozenset({'Question'}) properties={'name': 'What animal logo should neo4j use?'}>>, <Record n=<Node id=39 labels=frozenset({'User'}) properties={'name': '85b79'}>>, <Record n=<Node id=40 labels=frozenset({'Choice'}) properties={'name': 'No Idea'}>>, <Record n=<Node id=41 labels=frozenset({'User'}) properties={'name': 'cf806'}>>, <Record n=<Node id=42 labels=frozenset({'Choice'}) properties={'name': 'Octopus'}>>, <Record n=<Node id=43 labels=frozenset({'User'}) properties={'name': 'efa09'}>>, <Record n=<Node id=44 labels=frozenset({'Choice'}) properties={'name': 'Something else'}>>, <Record n=<Node id=45 labels=frozenset({'User'}) properties={'name': 'a4c24'}>>, <Record n=<Node id=46 labels=frozenset({'User'}) properties={'name': '1e99b'}>>, <Record n=<Node id=47 labels=frozenset({'Choice'}) properties={'name': 'Produce electric shocks'}>>, <Record n=<Node id=48 labels=frozenset({'User'}) properties={'name': '28f24'}>>, <Record n=<Node id=49 labels=frozenset({'Choice'}) properties={'name': 'Regnerate body parts'}>>, <Record n=<Node id=50 labels=frozenset({'User'}) properties={'name': '312f4'}>>, <Record n=<Node id=51 labels=frozenset({'Choice'}) properties={'name': \"Can't Recall\"}>>, <Record n=<Node id=52 labels=frozenset({'User'}) properties={'name': '133bc'}>>, <Record n=<Node id=53 labels=frozenset({'User'}) properties={'name': '59896'}>>, <Record n=<Node id=54 labels=frozenset({'User'}) properties={'name': 'eac49'}>>, <Record n=<Node id=55 labels=frozenset({'User'}) properties={'name': 'bc21a'}>>, <Record n=<Node id=56 labels=frozenset({'User'}) properties={'name': 'Chris Evans'}>>, <Record n=<Node id=57 labels=frozenset({'User'}) properties={'name': '5f0da'}>>]\n"
     ]
    }
   ],
   "source": [
    "#find my username\n",
    "with driver.session() as session:\n",
    "  result = session.read_transaction(generic_function)\n",
    "  print(result)"
   ]
  },
  {
   "cell_type": "code",
   "execution_count": 40,
   "id": "03ce39d7",
   "metadata": {},
   "outputs": [
    {
     "name": "stdout",
     "output_type": "stream",
     "text": [
      "[]\n"
     ]
    }
   ],
   "source": [
    "with driver.session() as session:\n",
    "    result2 = session.run(\"MATCH (u:User {name:'5f0da'}) SET u.firstName = 'Ryan'\")\n",
    "    print(list(result2))"
   ]
  },
  {
   "cell_type": "code",
   "execution_count": 42,
   "id": "f1e04da1",
   "metadata": {},
   "outputs": [
    {
     "name": "stdout",
     "output_type": "stream",
     "text": [
      "[<Record u=<Node id=57 labels=frozenset({'User'}) properties={'firstName': 'Ryan', 'name': '5f0da'}>>]\n"
     ]
    }
   ],
   "source": [
    "with driver.session() as session:\n",
    "    result3 = session.run(\"MATCH (u:User {name:'5f0da'}) RETURN u\")\n",
    "    print(list(result3))"
   ]
  },
  {
   "cell_type": "code",
   "execution_count": null,
   "id": "a9ddcfad",
   "metadata": {},
   "outputs": [],
   "source": []
  }
 ],
 "metadata": {
  "kernelspec": {
   "display_name": "Python 3",
   "language": "python",
   "name": "python3"
  },
  "language_info": {
   "codemirror_mode": {
    "name": "ipython",
    "version": 3
   },
   "file_extension": ".py",
   "mimetype": "text/x-python",
   "name": "python",
   "nbconvert_exporter": "python",
   "pygments_lexer": "ipython3",
   "version": "3.8.8"
  }
 },
 "nbformat": 4,
 "nbformat_minor": 5
}
